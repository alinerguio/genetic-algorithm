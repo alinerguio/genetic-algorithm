{
 "cells": [
  {
   "cell_type": "code",
   "execution_count": 1,
   "metadata": {},
   "outputs": [],
   "source": [
    "import random"
   ]
  },
  {
   "cell_type": "code",
   "execution_count": 2,
   "metadata": {},
   "outputs": [],
   "source": [
    "def generateInitialPopulation(size_population):\n",
    "    population = []\n",
    "    \n",
    "    while len(population) < size_population:\n",
    "        binary = f'{random.randint(-10, 10):05b}'\n",
    "        \n",
    "        if binary[0] == '-':\n",
    "            binary = '1' + binary[1:]\n",
    "        \n",
    "        binary_vector = [int(binary[0]), int(binary[1]), int(binary[2]), int(binary[3]), int(binary[4])]\n",
    "        \n",
    "        population.append(binary_vector)\n",
    "    \n",
    "    return population"
   ]
  },
  {
   "cell_type": "code",
   "execution_count": 3,
   "metadata": {},
   "outputs": [],
   "source": [
    "def fitnessFunction(population):\n",
    "    result = []\n",
    "    \n",
    "    for element in population:\n",
    "        x = convertToDecimal(element)\n",
    "        result.append(x ** 2 - 3 * x + 4)\n",
    "    \n",
    "    return result"
   ]
  },
  {
   "cell_type": "code",
   "execution_count": 4,
   "metadata": {},
   "outputs": [],
   "source": [
    "def convertToDecimal(x_binary):\n",
    "    x = \"\"\n",
    "    \n",
    "    for i in x_binary[1:]:\n",
    "        x = x + str(i)\n",
    "    \n",
    "    x = int(x, 2)\n",
    "    \n",
    "    if x_binary[0] == 1:\n",
    "        x = x * -1\n",
    "        \n",
    "    return x"
   ]
  },
  {
   "cell_type": "code",
   "execution_count": 22,
   "metadata": {},
   "outputs": [],
   "source": [
    "def selection(fitness_population, num_progenitors):\n",
    "    progenitors = []\n",
    "    progenitors_fitness = []\n",
    "    while len(progenitors) < num_progenitors:\n",
    "        result_roulette = selectionByRoulette(fitness_population.copy())\n",
    "        progenitor = selectionByTournament(result_roulette, fitness_population)\n",
    "        if fitness_population[progenitor] not in progenitors_fitness:\n",
    "            progenitors_fitness.append(fitness_population[progenitor])\n",
    "            progenitors.append(progenitor)\n",
    "            fitness_population[progenitor] = 'x'\n",
    "        \n",
    "    return progenitors"
   ]
  },
  {
   "cell_type": "code",
   "execution_count": 23,
   "metadata": {},
   "outputs": [],
   "source": [
    "def selectionByRoulette(fitness_population):\n",
    "    progenitors = []\n",
    "    \n",
    "    while len(progenitors) < 2:\n",
    "        roulette = random.randint(0, totalOfFitness(fitness_population))\n",
    "        base = 0\n",
    "        found = False\n",
    "        \n",
    "        for i in range(len(fitness_population)):\n",
    "            if fitness_population[i] != 'x':\n",
    "                base += fitness_population[i]\n",
    "                if base >= roulette and not found:\n",
    "                    fitness_population[i] = 'x'\n",
    "                    progenitors.append(i)\n",
    "                    found = True\n",
    "\n",
    "    return progenitors"
   ]
  },
  {
   "cell_type": "code",
   "execution_count": 24,
   "metadata": {},
   "outputs": [],
   "source": [
    "def selectionByTournament(possibilities, fitness_population):   \n",
    "    if fitness_population[possibilities[0]] >= fitness_population[possibilities[1]]:\n",
    "        return possibilities[0]\n",
    "    else:\n",
    "        return possibilities[1]"
   ]
  },
  {
   "cell_type": "code",
   "execution_count": 25,
   "metadata": {},
   "outputs": [],
   "source": [
    "def totalOfFitness(fitness_population):\n",
    "    total = 0\n",
    "    for fitness in fitness_population:\n",
    "        if fitness != 'x':\n",
    "            total += fitness\n",
    "    \n",
    "    return total"
   ]
  },
  {
   "cell_type": "code",
   "execution_count": 32,
   "metadata": {},
   "outputs": [],
   "source": [
    "def newGeneration(population, progenitors):\n",
    "    new_generation = []\n",
    "    \n",
    "    while len(new_generation) < len(population):\n",
    "        if len(progenitors) > 2:\n",
    "            progenitor_1 = population[random.choice(progenitors)]\n",
    "            progenitor_2 = population[random.choice(progenitors)]\n",
    "        else: \n",
    "            progenitor_1 = population[progenitors[0]]\n",
    "            progenitor_2 = population[progenitors[1]]\n",
    "    \n",
    "        if progenitor_1 != progenitor_2:\n",
    "            if random.randint(1, 100) <= 70: \n",
    "                element = crossOver(progenitor_1, progenitor_2, new_generation)\n",
    "                \n",
    "                if random.randint(1, 100) == 1:\n",
    "                    element = mutation(element)\n",
    "                \n",
    "                new_generation.append(element)\n",
    "                    \n",
    "    return new_generation"
   ]
  },
  {
   "cell_type": "code",
   "execution_count": 27,
   "metadata": {},
   "outputs": [],
   "source": [
    "def verifyValidity(element):\n",
    "    element_in_decimal = convertToDecimal(element)\n",
    "        \n",
    "    if element_in_decimal >= -10 and element_in_decimal <= 10:\n",
    "        return True\n",
    "    else:\n",
    "        return False"
   ]
  },
  {
   "cell_type": "code",
   "execution_count": 28,
   "metadata": {},
   "outputs": [],
   "source": [
    "def mutation(element):\n",
    "    valid_element = False\n",
    "    \n",
    "    while not valid_element:\n",
    "        mutation = random.randint(0, 4)\n",
    "        new_element = element.copy()\n",
    "        \n",
    "        if element[mutation] == 0:\n",
    "            new_element[mutation] = 1\n",
    "        else:\n",
    "            new_element[mutation] = 0\n",
    "            \n",
    "        valid_element = verifyValidity(new_element)\n",
    "    \n",
    "    return new_element"
   ]
  },
  {
   "cell_type": "code",
   "execution_count": 29,
   "metadata": {},
   "outputs": [],
   "source": [
    "def crossOver(progenitor_1, progenitor_2, new_generation):\n",
    "    valid_element = False\n",
    "    \n",
    "    while not valid_element:\n",
    "        cross_over = random.randint(0, 4)\n",
    "        progenitor_order = random.randint(0, 1)\n",
    "        \n",
    "        if progenitor_order == 0:\n",
    "            new_element = progenitor_1[:cross_over] + progenitor_2[cross_over:]\n",
    "        else:\n",
    "            new_element = progenitor_1[cross_over:] + progenitor_2[:cross_over]\n",
    "        \n",
    "        valid_element = verifyValidity(new_element)\n",
    "        \n",
    "#         if new_element in new_generation:\n",
    "#             valid_element = False\n",
    "            \n",
    "    return new_element"
   ]
  },
  {
   "cell_type": "code",
   "execution_count": 38,
   "metadata": {},
   "outputs": [
    {
     "name": "stdout",
     "output_type": "stream",
     "text": [
      "\n",
      " Bigger result for X found in the last generation was: 9\n"
     ]
    }
   ],
   "source": [
    "number_generations = 20\n",
    "generations = 0\n",
    "\n",
    "size_population = 30\n",
    "\n",
    "num_progenitors = 2\n",
    "\n",
    "population = generateInitialPopulation(size_population)\n",
    "\n",
    "while generations <= number_generations:\n",
    "#     print('Generation: ', generations)\n",
    "#     print('Population: ', population)\n",
    "    fitness_population = fitnessFunction(population)\n",
    "    progenitors = selection(fitness_population, num_progenitors)\n",
    "    population = newGeneration(population, progenitors)\n",
    "    \n",
    "    generations += 1\n",
    "    \n",
    "    \n",
    "biggest = -11\n",
    "\n",
    "for element in population:\n",
    "    element_dec = convertToDecimal(element)\n",
    "    if element_dec > biggest:\n",
    "        biggest = element_dec\n",
    "\n",
    "print('\\n Bigger result for X found in the last generation was:', biggest)"
   ]
  },
  {
   "cell_type": "code",
   "execution_count": null,
   "metadata": {},
   "outputs": [],
   "source": []
  },
  {
   "cell_type": "code",
   "execution_count": null,
   "metadata": {},
   "outputs": [],
   "source": []
  }
 ],
 "metadata": {
  "kernelspec": {
   "display_name": "Python 3",
   "language": "python",
   "name": "python3"
  },
  "language_info": {
   "codemirror_mode": {
    "name": "ipython",
    "version": 3
   },
   "file_extension": ".py",
   "mimetype": "text/x-python",
   "name": "python",
   "nbconvert_exporter": "python",
   "pygments_lexer": "ipython3",
   "version": "3.8.2"
  }
 },
 "nbformat": 4,
 "nbformat_minor": 4
}
