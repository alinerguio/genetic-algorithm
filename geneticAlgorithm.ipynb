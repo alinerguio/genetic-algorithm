{
 "cells": [
  {
   "cell_type": "code",
   "execution_count": 1,
   "metadata": {},
   "outputs": [],
   "source": [
    "import random"
   ]
  },
  {
   "cell_type": "code",
   "execution_count": 38,
   "metadata": {},
   "outputs": [],
   "source": [
    "def generateInitialPopulation(size_population):\n",
    "    population = []\n",
    "    \n",
    "    while len(population) < size_population:\n",
    "        binary = f'{random.randint(-10, 10):05b}'\n",
    "        \n",
    "        if binary[0] == '-':\n",
    "            binary = '1' + binary[1:]\n",
    "        \n",
    "        binary_vector = [int(binary[0]), int(binary[1]), int(binary[2]), int(binary[3]), int(binary[4])]\n",
    "        \n",
    "        population.append(binary_vector)\n",
    "    \n",
    "    return population"
   ]
  },
  {
   "cell_type": "code",
   "execution_count": 39,
   "metadata": {},
   "outputs": [],
   "source": [
    "def fitnessFunction(population): # fitness function da população toda \n",
    "    result = []\n",
    "    \n",
    "    for element in population:\n",
    "        x = convertToDecimal(element)\n",
    "        result.append(x ** 2 - 3 * x + 4)\n",
    "    \n",
    "    return result"
   ]
  },
  {
   "cell_type": "code",
   "execution_count": 40,
   "metadata": {},
   "outputs": [],
   "source": [
    "def convertToDecimal(x_binary):\n",
    "    x = \"\"\n",
    "    \n",
    "    for i in x_binary[1:]:\n",
    "        x = x + str(i)\n",
    "    \n",
    "    x = int(x, 2)\n",
    "    \n",
    "    if x_binary[0] == 1:\n",
    "        x = x * -1\n",
    "        \n",
    "    return x"
   ]
  },
  {
   "cell_type": "code",
   "execution_count": 41,
   "metadata": {},
   "outputs": [],
   "source": [
    "def selection(fitness_population, num_progenitors):\n",
    "    progenitors = []\n",
    "    progenitors_fitness = []\n",
    "    while len(progenitors) < num_progenitors:\n",
    "        result_roulette = selectionByRoulette(fitness_population.copy(), num_progenitors)\n",
    "        progenitor = selectionByTournament(result_roulette, fitness_population)\n",
    "        if fitness_population[progenitor] not in progenitors_fitness:\n",
    "            progenitors_fitness.append(fitness_population[progenitor])\n",
    "            progenitors.append(progenitor)\n",
    "            fitness_population[progenitor] = 'x'\n",
    "        \n",
    "    return progenitors"
   ]
  },
  {
   "cell_type": "code",
   "execution_count": 42,
   "metadata": {},
   "outputs": [],
   "source": [
    "# função que relaciona o resultado da fitness function com a chance do elemento ser selecionado para o torneio\n",
    "# e consequentemente para gerar a próxima geração\n",
    "def selectionByRoulette(fitness_population, num_progenitors): \n",
    "    progenitors = []\n",
    "    \n",
    "    while len(progenitors) < num_progenitors:\n",
    "        roulette = random.randint(0, totalOfFitness(fitness_population))\n",
    "        base = 0\n",
    "        found = False\n",
    "        \n",
    "        for i in range(len(fitness_population)):\n",
    "            if fitness_population[i] != 'x':\n",
    "                base += fitness_population[i]\n",
    "                if base >= roulette and not found:\n",
    "                    fitness_population[i] = 'x'\n",
    "                    progenitors.append(i)\n",
    "                    found = True\n",
    "\n",
    "    return progenitors"
   ]
  },
  {
   "cell_type": "code",
   "execution_count": 51,
   "metadata": {},
   "outputs": [],
   "source": [
    "def selectionByTournament(possibilities, fitness_population):   \n",
    "    element_result_value = -1000\n",
    "    element_index = -1\n",
    "    \n",
    "    for i in range(len(possibilities)):\n",
    "        if fitness_population[possibilities[i]] > element_result_value:\n",
    "            element_index = possibilities[i]\n",
    "    \n",
    "    return element_index"
   ]
  },
  {
   "cell_type": "code",
   "execution_count": 44,
   "metadata": {},
   "outputs": [],
   "source": [
    "def totalOfFitness(fitness_population):\n",
    "    total = 0\n",
    "    for fitness in fitness_population:\n",
    "        if fitness != 'x':\n",
    "            total += fitness\n",
    "    \n",
    "    return total"
   ]
  },
  {
   "cell_type": "code",
   "execution_count": 89,
   "metadata": {},
   "outputs": [],
   "source": [
    "def newGeneration(population, progenitors, cross_over_rate, mutation_rate):\n",
    "    new_generation = []\n",
    "    \n",
    "    while len(new_generation) < len(population):\n",
    "\n",
    "        first = random.choice(progenitors)\n",
    "        second_list = progenitors.copy()\n",
    "        second_list.remove(first)\n",
    "        second = random.choice(second_list)\n",
    "\n",
    "        progenitor_1 = population[first]\n",
    "        progenitor_2 = population[second]\n",
    "\n",
    "        if random.randint(1, 100) <= cross_over_rate: \n",
    "            element = crossOver(progenitor_1, progenitor_2)\n",
    "\n",
    "            if random.randint(1, 100) == mutation_rate:\n",
    "                element = mutation(element)\n",
    "\n",
    "            new_generation.append(element)\n",
    "                    \n",
    "    return new_generation"
   ]
  },
  {
   "cell_type": "code",
   "execution_count": 90,
   "metadata": {},
   "outputs": [],
   "source": [
    "def verifyValidity(element):\n",
    "    element_in_decimal = convertToDecimal(element)\n",
    "        \n",
    "    if element_in_decimal >= -10 and element_in_decimal <= 10:\n",
    "        return True\n",
    "    else:\n",
    "        return False"
   ]
  },
  {
   "cell_type": "code",
   "execution_count": 91,
   "metadata": {},
   "outputs": [],
   "source": [
    "def mutation(element):\n",
    "    valid_element = False\n",
    "    \n",
    "    while not valid_element:\n",
    "        mutation = random.randint(0, 4)\n",
    "        new_element = element.copy()\n",
    "        \n",
    "        if element[mutation] == 0:\n",
    "            new_element[mutation] = 1\n",
    "        else:\n",
    "            new_element[mutation] = 0\n",
    "            \n",
    "        valid_element = verifyValidity(new_element)\n",
    "    \n",
    "    return new_element"
   ]
  },
  {
   "cell_type": "code",
   "execution_count": 92,
   "metadata": {},
   "outputs": [],
   "source": [
    "def crossOver(progenitor_1, progenitor_2):\n",
    "    valid_element = False\n",
    "    \n",
    "    while not valid_element:\n",
    "        cross_over = random.randint(0, 4)\n",
    "        progenitor_order = random.randint(0, 1)\n",
    "        \n",
    "        if progenitor_order == 0:\n",
    "            new_element = progenitor_1[:cross_over] + progenitor_2[cross_over:]\n",
    "        else:\n",
    "            new_element = progenitor_1[cross_over:] + progenitor_2[:cross_over]\n",
    "        \n",
    "        valid_element = verifyValidity(new_element)\n",
    "            \n",
    "    return new_element"
   ]
  },
  {
   "cell_type": "code",
   "execution_count": 93,
   "metadata": {},
   "outputs": [],
   "source": [
    "def biggestValue(population):\n",
    "    biggest = -11\n",
    "\n",
    "    for element in population:\n",
    "        element_dec = convertToDecimal(element)\n",
    "        if element_dec > biggest:\n",
    "            biggest = element_dec\n",
    "    \n",
    "    return biggest"
   ]
  },
  {
   "cell_type": "code",
   "execution_count": 97,
   "metadata": {},
   "outputs": [
    {
     "name": "stdout",
     "output_type": "stream",
     "text": [
      "\n",
      " Valor máximo para X encontrado na última geração:  9\n"
     ]
    }
   ],
   "source": [
    "# número de gerações\n",
    "number_generations = 30\n",
    "\n",
    "# tamanho da população\n",
    "size_population = 30\n",
    "\n",
    "# número de progenitores que serão selecionados para gerar a próxima geração\n",
    "num_progenitors = 3\n",
    "\n",
    "# taxa de cross over\n",
    "cross_over_rate = 70\n",
    "\n",
    "# taxa de mutação\n",
    "mutation_rate = 1\n",
    "\n",
    "population = generateInitialPopulation(size_population)\n",
    "generations = 0\n",
    "\n",
    "while generations <= number_generations:\n",
    "#     print('Geração: ', generations)\n",
    "#     print('População: ', population)\n",
    "#     print(\"Valor X:\", biggestValue(population))\n",
    "    fitness_population = fitnessFunction(population)\n",
    "    progenitors = selection(fitness_population, num_progenitors)\n",
    "    population = newGeneration(population, progenitors, cross_over_rate, mutation_rate)\n",
    "    \n",
    "    generations += 1\n",
    "    \n",
    "    \n",
    "print('\\n Valor máximo para X encontrado na última geração: ', biggestValue(population))"
   ]
  }
 ],
 "metadata": {
  "kernelspec": {
   "display_name": "Python 3",
   "language": "python",
   "name": "python3"
  },
  "language_info": {
   "codemirror_mode": {
    "name": "ipython",
    "version": 3
   },
   "file_extension": ".py",
   "mimetype": "text/x-python",
   "name": "python",
   "nbconvert_exporter": "python",
   "pygments_lexer": "ipython3",
   "version": "3.8.2"
  }
 },
 "nbformat": 4,
 "nbformat_minor": 4
}
